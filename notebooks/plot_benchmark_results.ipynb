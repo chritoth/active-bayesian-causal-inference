{
 "cells": [
  {
   "cell_type": "markdown",
   "source": [
    "# Plot benchmark results\n",
    "\n",
    "In this notebook can be used to generate benchmark environments as found in the ABCI paper."
   ],
   "metadata": {
    "collapsed": false
   }
  },
  {
   "cell_type": "code",
   "execution_count": null,
   "metadata": {
    "collapsed": true,
    "pycharm": {
     "name": "#%% imports\n"
    }
   },
   "outputs": [],
   "source": [
    "%reload_ext autoreload\n",
    "%autoreload 2\n",
    "\n",
    "import matplotlib.pyplot as plt\n",
    "from matplotlib.ticker import MaxNLocator\n",
    "\n",
    "from src.utils.plotting import init_plot_style, Simulation"
   ]
  },
  {
   "cell_type": "code",
   "execution_count": null,
   "outputs": [],
   "source": [
    "# the simulations you want to plot/compare\n",
    "simulations = []\n",
    "simulations.append(Simulation('CRGraph', 5, '20220728_0022', 'abci-dibs-gp', 'observational',\n",
    "                              num_experiments=50, plot_kwargs={'label':'OBS', 'marker':'s', 'c':'Plum'}))\n",
    "simulations.append(Simulation('CRGraph', 5, '20221005_1523', 'abci-dibs-gp', 'scm-info-gain',\n",
    "                              num_experiments=50, plot_kwargs={'label':'RAND-FIXED', 'marker':'+', 'c':'DarkTurquoise'}))\n",
    "simulations.append(Simulation('CRGraph', 5, '20220728_0022', 'abci-dibs-gp', 'random',\n",
    "                              num_experiments=50, plot_kwargs={'label':'RAND', 'marker':'^', 'c':'Goldenrod'}))\n",
    "simulations.append(Simulation('CRGraph', 5, '20220728_0025', 'abci-dibs-gp', 'graph-info-gain',\n",
    "                              num_experiments=50, plot_kwargs={'label':r'$\\text{U}_\\text{CD}$', 'marker':'o', 'c':'MediumSeaGreen'}))\n",
    "simulations.append(Simulation('CRGraph', 5, '20220728_0025', 'abci-dibs-gp', 'scm-info-gain',\n",
    "                              num_experiments=50, plot_kwargs={'label':r'$\\text{U}_\\text{CML}$', 'marker':'x', 'c':'Tomato'}))\n",
    "simulations.append(Simulation('CRGraph', 5, '20220728_0022', 'abci-dibs-gp', 'intervention-info-gain',\n",
    "                              num_experiments=50, plot_kwargs={'label':r'$\\text{U}_\\text{CR}$', 'marker':'*', 'c':'CornflowerBlue'}))\n",
    "\n",
    "# the stats to extract from the simulation results\n",
    "stats_names = ['eshd', 'graph_ll', 'graph_entropy', 'auroc', 'auprc', 'observational_test_ll', 'observational_kld',\n",
    "               'interventional_test_ll', 'interventional_kld', 'query_kld']\n",
    "\n",
    "for sim in simulations:\n",
    "    sim.load_results(stats_names)"
   ],
   "metadata": {
    "collapsed": false,
    "pycharm": {
     "name": "#%% load data\n"
    }
   }
  },
  {
   "cell_type": "code",
   "execution_count": null,
   "outputs": [],
   "source": [
    "init_plot_style()\n",
    "\n",
    "save_plots = False\n",
    "dpi = 600\n",
    "fig_format = 'png'\n",
    "fig_dir = '../figures/'\n",
    "figdate = '20230101'\n",
    "fig_name = 'CRGraph-5'\n",
    "\n",
    "# axis labels for the given stats\n",
    "stat_labels = {'eshd': 'Expected SHD', 'graph_ll': 'Graph KLD', 'graph_entropy': 'Graph Entropy', 'auroc': 'AUROC',\n",
    "               'auprc':'AUPRC', 'observational_test_ll': 'NLL of Observational Test Data',\n",
    "               'interventional_test_ll': 'NLL of Interventional Test Data', 'observational_kld': 'Observational KLD',\n",
    "               'interventional_kld': 'Avg. Interventional KLD', 'query_kld': 'Query KLD'}\n",
    "# file identifier token for the given stats\n",
    "stat_tokens = {'eshd': 'ESHD', 'graph_ll': 'GRAPH-KLD', 'graph_entropy': 'Graph Entropy', 'auroc': 'AUROC',\n",
    "               'auprc':'AUPRC', 'observational_test_ll': 'OBS-NLL','interventional_test_ll':'INTR-NLL',\n",
    "               'observational_kld': 'OBS-KLD', 'interventional_kld': 'AVG-INTR-KLD', 'query_kld':'QUERY-KLD'}\n"
   ],
   "metadata": {
    "collapsed": false,
    "pycharm": {
     "name": "#%% init plot params\n"
    }
   }
  },
  {
   "cell_type": "code",
   "execution_count": null,
   "outputs": [],
   "source": [
    "stat_name =  'eshd'\n",
    "\n",
    "# plot stats over experiments\n",
    "ax = plt.figure(figsize=(36,12)).gca()\n",
    "for sim in simulations:\n",
    "    sim.plot_simulation_data(ax, stat_name)\n",
    "plt.xlabel('Number of Experiments')\n",
    "plt.ylabel(stat_labels[stat_name])\n",
    "ax.xaxis.set_major_locator(MaxNLocator(integer=True))\n",
    "plt.legend(loc='lower center', bbox_to_anchor=(0.5, -0.4), ncol=len(simulations))\n",
    "plt.xlim([0.8, simulations[0].stats[stat_name].shape[-1] + 0.2])\n",
    "plt.tight_layout()\n",
    "\n",
    "if save_plots:\n",
    "    plt.savefig(fig_dir + f'{figdate}-{fig_name}-{stat_tokens[stat_name]}.{fig_format}', dpi = dpi, bbox_inches='tight')\n"
   ],
   "metadata": {
    "collapsed": false,
    "pycharm": {
     "name": "#%% plot single stat\n"
    }
   }
  },
  {
   "cell_type": "code",
   "execution_count": null,
   "outputs": [],
   "source": [
    "\n",
    "# CRGraph\n",
    "stats_names = ['eshd', 'interventional_kld', 'query_kld']\n",
    "yranges = [[-0.2, 4.], [0.5, 6.], [-0.05, 1.1]]\n",
    "\n",
    "# plot entropy of graph posterior\n",
    "fig, axs = plt.subplots(1, 3, figsize=(36,9))\n",
    "for i, stat_name in enumerate(stats_names):\n",
    "    for sim in simulations:\n",
    "        sim.plot_simulation_data(axs[i], stat_name)\n",
    "\n",
    "    axs[i].set_title(stat_labels[stat_name], loc='center', y=1.01)\n",
    "    # format x axis\n",
    "    axs[i].set_xlim([0.8, simulations[0].stats[stat_name].shape[-1] + 0.2])\n",
    "    axs[i].xaxis.set_major_locator(MaxNLocator(10,integer=True))\n",
    "\n",
    "    # format y axis\n",
    "    axs[i].set_ylim(yranges[i])\n",
    "\n",
    "\n",
    "axs[1].set_xlabel('Number of Experiments')\n",
    "axs[0].legend(loc='lower left', bbox_to_anchor=(0.1, -0.4), ncol=len(simulations), frameon=False)\n",
    "\n",
    "if save_plots:\n",
    "    plt.savefig(fig_dir + f'{figdate}-{fig_name}-MIXED-STATS.{fig_format}', dpi = dpi, bbox_inches='tight')\n"
   ],
   "metadata": {
    "collapsed": false,
    "pycharm": {
     "name": "#%% plot multiple stats\n"
    }
   }
  },
  {
   "cell_type": "code",
   "execution_count": null,
   "outputs": [],
   "source": [
    "# the simulations you want to plot/compare\n",
    "simulations2 = []\n",
    "simulations2.append(Simulation('CRGraph', 5, '20220728_0022', 'abci-dibs-gp', 'observational',\n",
    "                              num_experiments=50, plot_kwargs={'label':'OBS', 'marker':'s', 'c':'Plum'}))\n",
    "simulations2.append(Simulation('CRGraph', 5, '20221005_1523', 'abci-dibs-gp', 'scm-info-gain',\n",
    "                              num_experiments=50, plot_kwargs={'label':'RAND-FIXED', 'marker':'+', 'c':'DarkTurquoise'}))\n",
    "simulations2.append(Simulation('CRGraph', 5, '20220728_0022', 'abci-dibs-gp', 'random',\n",
    "                              num_experiments=50, plot_kwargs={'label':'RAND', 'marker':'^', 'c':'Goldenrod'}))\n",
    "simulations2.append(Simulation('CRGraph', 5, '20220728_0025', 'abci-dibs-gp', 'graph-info-gain',\n",
    "                              num_experiments=50, plot_kwargs={'label':r'$\\text{U}_\\text{CD}$', 'marker':'o', 'c':'MediumSeaGreen'}))\n",
    "simulations2.append(Simulation('CRGraph', 5, '20220728_0025', 'abci-dibs-gp', 'scm-info-gain',\n",
    "                              num_experiments=50, plot_kwargs={'label':r'$\\text{U}_\\text{CML}$', 'marker':'x', 'c':'Tomato'}))\n",
    "simulations2.append(Simulation('CRGraph', 5, '20220728_0022', 'abci-dibs-gp', 'intervention-info-gain',\n",
    "                              num_experiments=50, plot_kwargs={'label':r'$\\text{U}_\\text{CR}$', 'marker':'*', 'c':'CornflowerBlue'}))\n",
    "\n",
    "for sim in simulations2:\n",
    "    sim.load_results(stats_names)"
   ],
   "metadata": {
    "collapsed": false,
    "pycharm": {
     "name": "#%% load a second set of simulations to be compared with the first set of simulations (e.g., comparing different envs)\n"
    }
   }
  },
  {
   "cell_type": "code",
   "execution_count": null,
   "outputs": [],
   "source": [
    "stat_name = 'query_kld'\n",
    "yranges = [[-0.05, 1.0], [-0.05, 1.0]]\n",
    "\n",
    "# plot entropy of graph posterior\n",
    "fig, axs = plt.subplots(1, 2, figsize=(36,13), sharey=True)\n",
    "for i, sims in enumerate((simulations, simulations2)):\n",
    "    for sim in sims:\n",
    "        sim.plot_simulation_data(axs[i], stat_name)\n",
    "\n",
    "    # format x axis\n",
    "    axs[i].set_xlim([0.8, simulations[0].stats[stat_name].shape[-1] + 0.2])\n",
    "    axs[i].xaxis.set_major_locator(MaxNLocator(10,integer=True))\n",
    "\n",
    "    # format y axis\n",
    "    axs[i].set_ylim(yranges[i])\n",
    "\n",
    "\n",
    "axs[0].set_xlabel('Number of Experiments')\n",
    "axs[0].legend(loc='lower left', bbox_to_anchor=(0.75, -0.25), ncol=len(simulations), frameon=False)\n",
    "plt.tight_layout()\n",
    "plt.subplots_adjust(wspace=0.05)\n",
    "\n",
    "if save_plots:\n",
    "    plt.savefig(fig_dir + f'{figdate}-{fig_name}-QUERY_KLD.{fig_format}', dpi = dpi, bbox_inches='tight')\n"
   ],
   "metadata": {
    "collapsed": false,
    "pycharm": {
     "name": "#%% plot single stat for two different sets of simulations\n"
    }
   }
  }
 ],
 "metadata": {
  "kernelspec": {
   "display_name": "Python 3",
   "language": "python",
   "name": "python3"
  },
  "language_info": {
   "codemirror_mode": {
    "name": "ipython",
    "version": 2
   },
   "file_extension": ".py",
   "mimetype": "text/x-python",
   "name": "python",
   "nbconvert_exporter": "python",
   "pygments_lexer": "ipython2",
   "version": "2.7.6"
  }
 },
 "nbformat": 4,
 "nbformat_minor": 0
}