{
 "cells": [
  {
   "cell_type": "markdown",
   "metadata": {},
   "source": [
    "# Example usage of ABCI-Categorical-GP\n",
    "\n",
    "This notebook illustrates the example usage of ABCI with a categorical\n",
    "distribution over graphs and a GP mechanism model. This setup scales up to systems with\n",
    "four variables."
   ]
  },
  {
   "cell_type": "code",
   "execution_count": null,
   "metadata": {
    "pycharm": {
     "name": "#%%\n"
    }
   },
   "outputs": [],
   "source": [
    "# imports\n",
    "%reload_ext autoreload\n",
    "%autoreload 2\n",
    "\n",
    "import matplotlib.pyplot as plt\n",
    "import torch.distributions as dist\n",
    "from matplotlib.ticker import MaxNLocator\n",
    "\n",
    "from src.abci_categorical_gp import ABCICategoricalGP as ABCI\n",
    "from src.environments.generic_environments import *\n",
    "from src.models.gp_model import get_graph_key, gather_data\n"
   ]
  },
  {
   "cell_type": "markdown",
   "metadata": {},
   "source": [
    "First, we generate a ground truth environment/SCM."
   ]
  },
  {
   "cell_type": "code",
   "execution_count": null,
   "metadata": {
    "pycharm": {
     "name": "#%%\n"
    }
   },
   "outputs": [],
   "source": [
    "# specify the number of nodes and (optionally) a query of interventional variables\n",
    "num_nodes = 3\n",
    "# interventional_queries = None\n",
    "interventional_queries = [InterventionalDistributionsQuery(['X2'], {'X1': dist.Uniform(3, 4.)})]\n",
    "\n",
    "# generate the ground truth environment\n",
    "env = BiDiag(num_nodes,\n",
    "             num_test_queries=10,\n",
    "             interventional_queries=interventional_queries)\n",
    "\n",
    "# plot true graph\n",
    "nx.draw(env.graph, nx.planar_layout(env.graph), labels=dict(zip(env.graph.nodes, env.graph.nodes)))\n"
   ]
  },
  {
   "cell_type": "markdown",
   "metadata": {},
   "source": [
    "Next, we can examine the ground truth mechanisms."
   ]
  },
  {
   "cell_type": "code",
   "execution_count": null,
   "metadata": {
    "pycharm": {
     "name": "#%%\n"
    }
   },
   "outputs": [],
   "source": [
    "# plotting a univariate mechanism\n",
    "node = 'X1'  # target node\n",
    "num_points = 100\n",
    "xrange = torch.linspace(-10., 10., num_points).unsqueeze(1)\n",
    "ytrue = env.mechanisms[node](xrange, prior_mode=False).detach()\n",
    "\n",
    "plt.figure()\n",
    "plt.plot(xrange, ytrue)\n",
    "plt.xlabel('X0')\n",
    "plt.ylabel(node)\n",
    "plt.tight_layout()"
   ]
  },
  {
   "cell_type": "code",
   "execution_count": null,
   "metadata": {
    "pycharm": {
     "name": "#%%\n"
    }
   },
   "outputs": [],
   "source": [
    "# plotting a bivariate mechanism\n",
    "node = 'X2'  # target node\n",
    "num_points = 100\n",
    "xrange = torch.linspace(-7., 7., num_points)\n",
    "yrange = torch.linspace(-7., 7., num_points)\n",
    "xgrid, ygrid = torch.meshgrid(xrange, yrange)\n",
    "ztrue = env.mechanisms[node](torch.stack((xgrid, ygrid), dim=2).view(-1, 2))\n",
    "zmin = ztrue.min().item()\n",
    "zmax = ztrue.max().item()\n",
    "print(f'Function values for {node} in range [{zmin, zmax}].')\n",
    "ztrue = ztrue.detach().view(num_points, num_points).numpy()\n",
    "\n",
    "levels = torch.linspace(zmin, zmax, 30).numpy()\n",
    "fig, ax = plt.subplots()\n",
    "cp1 = ax.contourf(xgrid, ygrid, ztrue, cmap=plt.get_cmap('jet'), levels=levels, vmin=zmin, vmax=zmax,\n",
    "                  antialiased=False)\n",
    "ax.set_xlabel('X0')\n",
    "ax.set_ylabel('X1')\n",
    "_ = fig.colorbar(cp1)\n",
    "\n",
    "# _, ax = plt.subplots(subplot_kw={\"projection\": \"3d\"})\n",
    "# surf = ax.plot_surface(xgrid, ygrid, ztrue, cmap=plt.get_cmap('jet'), linewidth=0, antialiased=False)\n",
    "# ax.set_xlabel('X0')\n",
    "# ax.set_ylabel('X1')\n",
    "# ax.set_zlabel(node)"
   ]
  },
  {
   "cell_type": "markdown",
   "metadata": {},
   "source": [
    "Here, we create an ABCI instance with the desired experimental design policy."
   ]
  },
  {
   "cell_type": "code",
   "execution_count": null,
   "metadata": {
    "pycharm": {
     "name": "#%%\n"
    }
   },
   "outputs": [],
   "source": [
    "policy = 'observational'\n",
    "abci = ABCI(env, policy)"
   ]
  },
  {
   "cell_type": "markdown",
   "metadata": {},
   "source": [
    "We can now run a number of ABCI loops."
   ]
  },
  {
   "cell_type": "code",
   "execution_count": null,
   "metadata": {
    "pycharm": {
     "name": "#%%\n"
    }
   },
   "outputs": [],
   "source": [
    "num_experiments = 3\n",
    "batch_size = 3\n",
    "\n",
    "abci.run(num_experiments, batch_size, num_initial_obs_samples=3)"
   ]
  },
  {
   "cell_type": "markdown",
   "metadata": {},
   "source": [
    "Here, we plot the training stats and results."
   ]
  },
  {
   "cell_type": "code",
   "execution_count": null,
   "metadata": {
    "pycharm": {
     "name": "#%%\n"
    }
   },
   "outputs": [],
   "source": [
    "print(f'Number of observational batches: {len([e for e in abci.experiments if e.interventions == {}])}')\n",
    "for node in env.node_labels:\n",
    "    print(\n",
    "        f'Number of interventional batches on {node}: {len([e for e in abci.experiments if node in e.interventions])}')\n",
    "\n",
    "# plot expected SHD over experiments\n",
    "ax = plt.figure().gca()\n",
    "plt.plot(abci.eshd_list)\n",
    "plt.xlabel('Number of Experiments')\n",
    "plt.ylabel('Expected SHD')\n",
    "ax.xaxis.set_major_locator(MaxNLocator(integer=True))\n",
    "\n",
    "# plot true graph NLL over experiments\n",
    "ax = plt.figure().gca()\n",
    "plt.plot(-torch.tensor(abci.graph_ll_list))\n",
    "plt.xlabel('Number of Experiments')\n",
    "plt.ylabel('True Graph NLL')\n",
    "ax.xaxis.set_major_locator(MaxNLocator(integer=True))\n",
    "\n",
    "# plot graph posterior\n",
    "graphs = abci.graph_posterior.sort_by_prob()[0:10]\n",
    "probs = [abci.graph_posterior.log_prob(g).exp().detach() for g in graphs]\n",
    "graph_keys = [get_graph_key(g) for g in graphs]\n",
    "\n",
    "plt.figure()\n",
    "plt.xticks(rotation=90)\n",
    "plt.bar(graph_keys, probs)\n",
    "plt.ylabel(r'Graph Posterior, $p(G|D)$')\n",
    "\n",
    "# plot graph posterior entropy over experiments\n",
    "ax = plt.figure().gca()\n",
    "plt.plot(abci.graph_entropy_list, label='entropy estimate')\n",
    "plt.xlabel('Number of Experiments')\n",
    "plt.ylabel('Entropy of Graph Posterior')\n",
    "ax.xaxis.set_major_locator(MaxNLocator(integer=True))\n",
    "plt.legend()\n",
    "\n",
    "# plot Query KLD over experiments\n",
    "ax = plt.figure().gca()\n",
    "plt.plot(abci.query_kld_list)\n",
    "plt.xlabel('Number of Experiments')\n",
    "plt.ylabel('Query KLD')\n",
    "ax.xaxis.set_major_locator(MaxNLocator(integer=True))\n",
    "plt.tight_layout()"
   ]
  },
  {
   "cell_type": "markdown",
   "metadata": {},
   "source": [
    "Finally, we can have a look at the learned vs. true mechanisms."
   ]
  },
  {
   "cell_type": "code",
   "execution_count": null,
   "metadata": {
    "pycharm": {
     "name": "#%%\n"
    }
   },
   "outputs": [],
   "source": [
    "# plot X_i -> X_j true vs. predicted\n",
    "i = 0\n",
    "j = 1\n",
    "xdata, ydata = gather_data(abci.experiments, f'X{j}', parents=[f'X{i}'])\n",
    "xrange = torch.linspace(xdata.min(), xdata.max(), 100).unsqueeze(1)\n",
    "ytrue = env.mechanisms[f'X{j}'](xrange).detach()\n",
    "mech = abci.mechanism_model.get_mechanism(f'X{j}', parents=[f'X{i}'])\n",
    "mech.set_data(xdata, ydata)\n",
    "ypred = mech(xrange).detach()\n",
    "\n",
    "plt.figure()\n",
    "plt.plot(xdata, ydata, 'rx', label='Experimental Data')\n",
    "plt.plot(xrange, ytrue, label=f'X{i}->X{j} true')\n",
    "plt.plot(xrange, ypred, label=f'X{i}->X{j} prediction')\n",
    "plt.xlabel(f'X{i}')\n",
    "plt.ylabel(f'X{j}')\n",
    "plt.legend()\n",
    "plt.tight_layout()"
   ]
  },
  {
   "cell_type": "code",
   "execution_count": null,
   "metadata": {
    "pycharm": {
     "name": "#%%\n"
    }
   },
   "outputs": [],
   "source": [
    "# plot bivariate mechanisms\n",
    "node = 'X2'\n",
    "num_points = 100\n",
    "xrange = torch.linspace(-10., 10., num_points)\n",
    "yrange = torch.linspace(-10., 10., num_points)\n",
    "xgrid, ygrid = torch.meshgrid(xrange, yrange)\n",
    "inputs = torch.stack((xgrid, ygrid), dim=2).view(-1, 2)\n",
    "ztrue = env.mechanisms[node](inputs).detach().view(num_points, num_points).numpy()\n",
    "\n",
    "parents = ['X0', 'X1']\n",
    "mech = abci.mechanism_model.get_mechanism(node, parents=parents)\n",
    "zpred = mech(inputs)\n",
    "zpred = zpred.detach().view(num_points, num_points).numpy()\n",
    "\n",
    "zmin = ztrue.min().item()\n",
    "zmax = ztrue.max().item()\n",
    "print(f'Function values for {node} in range [{zmin, zmax}].')\n",
    "\n",
    "levels = torch.linspace(zmin, zmax, 30).numpy()\n",
    "fig, axes = plt.subplots(1, 2)\n",
    "cp1 = axes[0].contourf(xgrid, ygrid, ztrue, cmap=plt.get_cmap('jet'), levels=levels, vmin=zmin, vmax=zmax)\n",
    "cp2 = axes[1].contourf(xgrid, ygrid, zpred, cmap=plt.get_cmap('jet'), levels=levels, vmin=zmin, vmax=zmax)\n",
    "\n",
    "inputs, targets = gather_data(abci.experiments, node, parents=parents)\n",
    "axes[0].plot(inputs[:, 0], inputs[:, 1], 'kx')\n",
    "\n",
    "axes[0].set_xlabel(parents[0])\n",
    "axes[1].set_xlabel(parents[0])\n",
    "axes[0].set_ylabel(parents[1])\n",
    "_ = fig.colorbar(cp2)"
   ]
  }
 ],
 "metadata": {
  "kernelspec": {
   "display_name": "Python 3 (ipykernel)",
   "language": "python",
   "name": "python3"
  },
  "language_info": {
   "codemirror_mode": {
    "name": "ipython",
    "version": 3
   },
   "file_extension": ".py",
   "mimetype": "text/x-python",
   "name": "python",
   "nbconvert_exporter": "python",
   "pygments_lexer": "ipython3",
   "version": "3.7.10"
  }
 },
 "nbformat": 4,
 "nbformat_minor": 1
}