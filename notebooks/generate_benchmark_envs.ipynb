{
 "cells": [
  {
   "cell_type": "markdown",
   "metadata": {},
   "source": [
    "# Generate and store benchmark environments\n",
    "\n",
    "In this notebook can be used to generate benchmark environments."
   ]
  },
  {
   "cell_type": "code",
   "execution_count": null,
   "outputs": [],
   "source": [
    "%load_ext autoreload\n",
    "%autoreload 2\n",
    "import os\n",
    "import shutil\n",
    "\n",
    "import torch.distributions as dist\n",
    "\n",
    "from src.environments.generic_environments import *"
   ],
   "metadata": {
    "collapsed": false,
    "pycharm": {
     "name": "#%% imports\n"
    }
   }
  },
  {
   "cell_type": "markdown",
   "source": [
    "Generate the environments."
   ],
   "metadata": {
    "collapsed": false,
    "pycharm": {
     "name": "#%% md\n"
    }
   }
  },
  {
   "cell_type": "code",
   "execution_count": null,
   "outputs": [],
   "source": [
    "# benchmark parameters\n",
    "env_class = CRGraph\n",
    "num_envs = 5\n",
    "n_list = [5]\n",
    "frac_non_intervenable_nodes= None\n",
    "non_intervenable_nodes= set()\n",
    "# non_intervenable_nodes = set([\"X2\"])\n",
    "num_test_samples_per_intervention = 50\n",
    "num_test_queries = 50\n",
    "# interventional_queries = None\n",
    "interventional_queries = [InterventionalDistributionsQuery(['X4'], {'X2':dist.Uniform(2., 5.)})]\n",
    "\n",
    "descriptor = ''\n",
    "# descriptor = '_X2'\n",
    "\n",
    "# generation setup\n",
    "env_dir = '../data/' + env_class.__name__ + descriptor + '/'  # dir where to store the generated envs\n",
    "delete_existing = False  # delete existing benchmarks\n",
    "\n",
    "# generating the benchmark envs from here on\n",
    "i = 0\n",
    "total_graphs = num_envs * len(n_list)\n",
    "for num_nodes in n_list:\n",
    "    # generate/empty folder for envs of same type\n",
    "    n_dir = env_dir + f'{num_nodes}_nodes/'\n",
    "    if os.path.isdir(n_dir):\n",
    "        if not delete_existing:\n",
    "            print('\\nDirectory \\'' + n_dir + '\\' already exists, not generating benchmarks...')\n",
    "            continue\n",
    "\n",
    "        print('\\nDirectory \\'' + n_dir + '\\' already exists, delete existing benchmarks...')\n",
    "        for root, dirs, files in os.walk(n_dir):\n",
    "            for file in files:\n",
    "                os.remove(os.path.join(root, file))\n",
    "            for folder in dirs:\n",
    "                shutil.rmtree(os.path.join(root, folder))\n",
    "\n",
    "    os.makedirs(n_dir, exist_ok=True)\n",
    "\n",
    "    # generate benchmark envs\n",
    "    for _ in range(num_envs):\n",
    "        i = i + 1\n",
    "        env = env_class(num_nodes=num_nodes,\n",
    "                        frac_non_intervenable_nodes=frac_non_intervenable_nodes,\n",
    "                        non_intervenable_nodes=non_intervenable_nodes,\n",
    "                        num_test_samples_per_intervention=num_test_samples_per_intervention,\n",
    "                        num_test_queries=num_test_queries,\n",
    "                        interventional_queries=interventional_queries)\n",
    "        env_path = n_dir + env.name + '.pth'\n",
    "        env.save(env_path)\n",
    "        print(f'\\rGenerated {i}/{total_graphs} environments.', end='')\n"
   ],
   "metadata": {
    "collapsed": false,
    "pycharm": {
     "name": "#%%\n"
    }
   }
  },
  {
   "cell_type": "markdown",
   "source": [
    "Take existing environments, restrict their set of intervenable nodes and store them seperately."
   ],
   "metadata": {
    "collapsed": false,
    "pycharm": {
     "name": "#%% md\n"
    }
   }
  },
  {
   "cell_type": "code",
   "execution_count": null,
   "outputs": [],
   "source": [
    "# benchmark parameters\n",
    "env_class = CRGraph\n",
    "n_list = [5]\n",
    "# non_intervenable_nodes= set()\n",
    "non_intervenable_nodes = set([\"X2\"])\n",
    "\n",
    "# descriptor = ''\n",
    "descriptor = '_X2'\n",
    "\n",
    "# generation setup\n",
    "source_env_dir = '../data/' + env_class.__name__ + '/'  # dir where origianl envs are stored\n",
    "target_env_dir = '../data/' + env_class.__name__ + descriptor + '/'  # dir where to store the generated envs\n",
    "delete_existing = False  # delete existing benchmarks\n",
    "\n",
    "i = 0\n",
    "for num_nodes in n_list:\n",
    "    # check if source envs available\n",
    "    source_n_dir = source_env_dir + f'{num_nodes}_nodes/'\n",
    "    if not os.path.isdir(source_n_dir):\n",
    "        print(f'Source directory {source_n_dir} does not exist!')\n",
    "        continue\n",
    "\n",
    "    # generate/empty folder for target envs\n",
    "    target_n_dir = target_env_dir + f'{num_nodes}_nodes/'\n",
    "    if os.path.isdir(target_n_dir):\n",
    "        if not delete_existing:\n",
    "            print('\\nTarget directory \\'' + target_n_dir + '\\' already exists, not generating benchmarks...')\n",
    "            continue\n",
    "\n",
    "        print('\\nTarget directory \\'' + target_n_dir + '\\' already exists, delete existing benchmarks...')\n",
    "        for root, dirs, files in os.walk(target_n_dir):\n",
    "            for file in files:\n",
    "                os.remove(os.path.join(root, file))\n",
    "            for folder in dirs:\n",
    "                shutil.rmtree(os.path.join(root, folder))\n",
    "\n",
    "    os.makedirs(target_n_dir, exist_ok=True)\n",
    "\n",
    "    # load source envs\n",
    "    env_files = [entry for entry in os.scandir(source_n_dir) if entry.is_file() and os.path.basename(entry)[-4:] == '.pth']\n",
    "    for i, f in enumerate(env_files):\n",
    "        env = env_class.load(os.path.abspath(f))\n",
    "        env.non_intervenable_nodes = non_intervenable_nodes\n",
    "        env.intervenable_nodes = set(env.node_labels) - env.non_intervenable_nodes\n",
    "        env.save(target_n_dir + os.path.basename(f))\n",
    "\n",
    "        print(f'\\rProcessed {i+1}/{len(env_files)} environments in {source_n_dir}.', end='')\n",
    "    print('')\n"
   ],
   "metadata": {
    "collapsed": false,
    "pycharm": {
     "name": "#%%\n"
    }
   }
  }
 ],
 "metadata": {
  "kernelspec": {
   "display_name": "Python 3",
   "language": "python",
   "name": "python3"
  },
  "language_info": {
   "codemirror_mode": {
    "name": "ipython",
    "version": 3
   },
   "file_extension": ".py",
   "mimetype": "text/x-python",
   "name": "python",
   "nbconvert_exporter": "python",
   "pygments_lexer": "ipython3",
   "version": "3.6.8"
  }
 },
 "nbformat": 4,
 "nbformat_minor": 1
}