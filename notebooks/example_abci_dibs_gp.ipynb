{
 "cells": [
  {
   "cell_type": "markdown",
   "metadata": {
    "collapsed": true,
    "pycharm": {
     "name": "#%% md\n"
    }
   },
   "source": [
    "# Example usage of ABCI-DiBS-GP\n",
    "\n",
    "This notebook illustrates the example usage of ABCI using DiBS for approximate graph posterior inference\n",
    "and a GP mechanism model."
   ]
  },
  {
   "cell_type": "code",
   "execution_count": null,
   "outputs": [],
   "source": [
    "# imports\n",
    "%reload_ext autoreload\n",
    "%autoreload 2\n",
    "\n",
    "import matplotlib.pyplot as plt\n",
    "import torch.distributions as dist\n",
    "from matplotlib.ticker import MaxNLocator\n",
    "\n",
    "from src.abci_dibs_gp import ABCIDiBSGP as ABCI\n",
    "from src.environments.generic_environments import *\n",
    "from src.models.gp_model import *"
   ],
   "metadata": {
    "collapsed": false,
    "pycharm": {
     "name": "#%%\n"
    }
   }
  },
  {
   "cell_type": "markdown",
   "source": [
    "First, we generate a ground truth environment/SCM.\n"
   ],
   "metadata": {
    "collapsed": false
   }
  },
  {
   "cell_type": "code",
   "execution_count": null,
   "outputs": [],
   "source": [
    "# specify the number of nodes and (optionally) a query of interventional variables\n",
    "num_nodes = 5\n",
    "interventional_queries = None\n",
    "# interventional_queries = [InterventionalDistributionsQuery(['X2'], {'X1': dist.Uniform(2., 5.)})]\n",
    "\n",
    "# generate the ground truth environment\n",
    "env = BarabasiAlbert(num_nodes,\n",
    "            num_test_queries=50,\n",
    "            interventional_queries=interventional_queries)\n",
    "\n",
    "# plot true graph\n",
    "nx.draw(env.graph, nx.circular_layout(env.graph), labels=dict(zip(env.graph.nodes, env.graph.nodes)))"
   ],
   "metadata": {
    "collapsed": false,
    "pycharm": {
     "name": "#%% init environment\n"
    }
   }
  },
  {
   "cell_type": "markdown",
   "source": [
    "Here, we create an ABCI instance with the desired experimental design policy."
   ],
   "metadata": {
    "collapsed": false
   }
  },
  {
   "cell_type": "code",
   "execution_count": null,
   "outputs": [],
   "source": [
    "policy = 'graph-info-gain'\n",
    "abci = ABCI(env, policy, num_particles=5, num_mc_graphs=40, num_workers=1, dibs_plus=True, linear=False)"
   ],
   "metadata": {
    "collapsed": false,
    "pycharm": {
     "name": "#%%\n"
    }
   }
  },
  {
   "cell_type": "markdown",
   "source": [
    "We can now run a number of ABCI loops."
   ],
   "metadata": {
    "collapsed": false
   }
  },
  {
   "cell_type": "code",
   "execution_count": null,
   "outputs": [],
   "source": [
    "num_experiments = 2\n",
    "batch_size = 3\n",
    "\n",
    "abci.run(num_experiments, batch_size, num_initial_obs_samples=3)"
   ],
   "metadata": {
    "collapsed": false,
    "pycharm": {
     "name": "#%%\n"
    }
   }
  },
  {
   "cell_type": "markdown",
   "source": [
    "Here, we plot the training stats and results."
   ],
   "metadata": {
    "collapsed": false,
    "pycharm": {
     "name": "#%% md\n"
    }
   }
  },
  {
   "cell_type": "code",
   "execution_count": null,
   "outputs": [],
   "source": [
    "print(f'Number of observational batches: {len([e for e in abci.experiments if e.interventions == {}])}')\n",
    "for node in env.node_labels:\n",
    "    print(\n",
    "        f'Number of interventional batches on {node}: {len([e for e in abci.experiments if node in e.interventions])}')\n",
    "\n",
    "# plot expected SHD over experiments\n",
    "ax = plt.figure().gca()\n",
    "plt.plot(abci.eshd_list)\n",
    "plt.xlabel('Number of Experiments')\n",
    "plt.ylabel('Expected SHD')\n",
    "ax.xaxis.set_major_locator(MaxNLocator(integer=True))\n",
    "\n",
    "# plot auroc over experiments\n",
    "ax = plt.figure().gca()\n",
    "plt.plot(abci.auroc_list)\n",
    "plt.xlabel('Number of Experiments')\n",
    "plt.ylabel('AUROC')\n",
    "ax.xaxis.set_major_locator(MaxNLocator(integer=True))\n",
    "\n",
    "# plot auprc over experiments\n",
    "ax = plt.figure().gca()\n",
    "plt.plot(abci.auprc_list)\n",
    "plt.xlabel('Number of Experiments')\n",
    "plt.ylabel('AUPRC')\n",
    "ax.xaxis.set_major_locator(MaxNLocator(integer=True))\n",
    "\n",
    "# plot Query KLD over experiments\n",
    "ax = plt.figure().gca()\n",
    "plt.plot(abci.query_kld_list)\n",
    "plt.xlabel('Number of Experiments')\n",
    "plt.ylabel('Query KLD')\n",
    "ax.xaxis.set_major_locator(MaxNLocator(integer=True))\n",
    "plt.tight_layout()"
   ],
   "metadata": {
    "collapsed": false,
    "pycharm": {
     "name": "#%% print training stats\n"
    }
   }
  },
  {
   "cell_type": "markdown",
   "source": [
    "Finally, we can have a look at the learned vs. true mechanisms."
   ],
   "metadata": {
    "collapsed": false
   }
  },
  {
   "cell_type": "code",
   "execution_count": null,
   "outputs": [],
   "source": [
    "# plot X_i -> X_j true vs. predicted\n",
    "i = 0\n",
    "j = 1\n",
    "xdata, ydata = gather_data(abci.experiments, f'X{j}', parents=[f'X{i}'])\n",
    "xrange = torch.linspace(-7., 7., 100).unsqueeze(-1)\n",
    "ytrue = env.mechanisms[f'X{j}'](xrange).detach()\n",
    "mech = abci.mechanism_model.get_mechanism(f'X{j}', parents=[f'X{i}'])\n",
    "mech.set_data(xdata, ydata)\n",
    "ypred = mech(xrange).detach()\n",
    "\n",
    "plt.figure()\n",
    "plt.plot(xdata, ydata, 'rx', label='Experimental Data')\n",
    "plt.plot(xrange, ytrue, label='X->Y true')\n",
    "plt.plot(xrange, ypred, label='X->Y prediction')\n",
    "plt.xlabel(f'X{i}')\n",
    "plt.ylabel(f'X{j}')\n",
    "plt.legend()\n",
    "plt.tight_layout()"
   ],
   "metadata": {
    "collapsed": false,
    "pycharm": {
     "name": "#%%\n"
    }
   }
  },
  {
   "cell_type": "code",
   "execution_count": null,
   "outputs": [],
   "source": [
    "# plot bivariate mechanisms\n",
    "node = 'X2'\n",
    "num_points = 100\n",
    "xrange = torch.linspace(-7., 7., num_points)\n",
    "yrange = torch.linspace(-7., 7., num_points)\n",
    "xgrid, ygrid = torch.meshgrid(xrange, yrange)\n",
    "inputs = torch.stack((xgrid, ygrid), dim=2).view(-1, 2)\n",
    "ztrue = env.mechanisms[node](inputs).detach().view(num_points, num_points).numpy()\n",
    "\n",
    "parents = ['X0', 'X1']\n",
    "mech = abci.mechanism_model.get_mechanism(node, parents=parents)\n",
    "sample_inputs, sample_targets = gather_data(abci.experiments, node, parents=parents)\n",
    "mech.set_data(sample_inputs, sample_targets)\n",
    "zpred = mech(inputs)\n",
    "zpred = zpred.detach().view(num_points, num_points).numpy()\n",
    "\n",
    "zmin = ztrue.min().item()\n",
    "zmax = ztrue.max().item()\n",
    "print(f'Function values for {node} in range [{zmin, zmax}].')\n",
    "\n",
    "levels = torch.linspace(zmin, zmax, 30).numpy()\n",
    "fig, axes = plt.subplots(1, 2)\n",
    "cp1 = axes[0].contourf(xgrid, ygrid, ztrue, cmap=plt.get_cmap('jet'), levels=levels, vmin=zmin, vmax=zmax,\n",
    "                       antialiased=False)\n",
    "cp2 = axes[1].contourf(xgrid, ygrid, zpred, cmap=plt.get_cmap('jet'), levels=levels, vmin=zmin, vmax=zmax,\n",
    "                       antialiased=False)\n",
    "\n",
    "axes[0].plot(sample_inputs[:, 0], sample_inputs[:, 1], 'kx')\n",
    "axes[0].set_xlabel(parents[0])\n",
    "axes[1].set_xlabel(parents[0])\n",
    "axes[0].set_ylabel(parents[1])\n",
    "_ = fig.colorbar(cp2)"
   ],
   "metadata": {
    "collapsed": false,
    "pycharm": {
     "name": "#%%\n"
    }
   }
  }
 ],
 "metadata": {
  "kernelspec": {
   "display_name": "Python 3",
   "language": "python",
   "name": "python3"
  },
  "language_info": {
   "codemirror_mode": {
    "name": "ipython",
    "version": 2
   },
   "file_extension": ".py",
   "mimetype": "text/x-python",
   "name": "python",
   "nbconvert_exporter": "python",
   "pygments_lexer": "ipython2",
   "version": "2.7.6"
  }
 },
 "nbformat": 4,
 "nbformat_minor": 0
}